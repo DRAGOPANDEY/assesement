{
 "cells": [
  {
   "cell_type": "markdown",
   "id": "033f7b7b",
   "metadata": {},
   "source": [
    "# Question 1 :\n",
    "__Write an efficient algorithm that searches for a value target in an m x n integer matrix. This matrix has the following properties:__\n",
    "\n",
    "__1 :Integers in each row are sorted from right to left.__\n",
    "\n",
    "__2 :The first integer of each row is greater than the last integer of the previous row.__"
   ]
  },
  {
   "cell_type": "markdown",
   "id": "4d0b412f",
   "metadata": {},
   "source": [
    "Example-: \n",
    "\n",
    "__Input: matrix = [[1,3,5,7],[10,11,16,20],[23,30,34,60]], target = 3__\n",
    "\n",
    "__Output: True__"
   ]
  },
  {
   "cell_type": "markdown",
   "id": "ca745150",
   "metadata": {},
   "source": [
    "Ans:-An algorithm that searches for a value target in an m x n integer matrix where:<br>\n",
    "\n",
    "Integers in each row are sorted from right to left.<br>\n",
    "The first integer of each row is greater than the last integer of the previous row.<br>\n",
    "The time complexity of the algorithm is O(m + n), which is efficient because it only iterates over the matrix once.<br>"
   ]
  },
  {
   "cell_type": "code",
   "execution_count": 17,
   "id": "19a4a646",
   "metadata": {},
   "outputs": [],
   "source": [
    "def search_matrix(matrix, target):\n",
    "\n",
    "#         matrix: A 2D list of integers representing the sorted matrix.\n",
    "#         target: The integer value to search for.\n",
    "\n",
    "    \n",
    "       \n",
    "    \n",
    "\n",
    "    x,y = len(matrix), len(matrix[0])\n",
    "    row, col = 0, y - 1\n",
    "\n",
    "    while row < x and col >= 0:\n",
    "        if matrix[row][col] == target:\n",
    "            return True\n",
    "        elif matrix[row][col] < target:\n",
    "            row += 1\n",
    "        else:\n",
    "            col -= 1\n",
    "\n",
    "    return False\n",
    "\n",
    "#  True if the target is found in the matrix, False otherwise."
   ]
  },
  {
   "cell_type": "code",
   "execution_count": 18,
   "id": "f94e228c",
   "metadata": {},
   "outputs": [
    {
     "name": "stdout",
     "output_type": "stream",
     "text": [
      "True\n"
     ]
    }
   ],
   "source": [
    "matrix = [[1, 3, 5, 7], [10, 11, 16, 20], [23, 30, 34, 60]]\n",
    "target = 3\n",
    "\n",
    "result = search_matrix(matrix, target)\n",
    "print(result)\n"
   ]
  },
  {
   "cell_type": "markdown",
   "id": "3536d8ac",
   "metadata": {},
   "source": [
    "# Question 2\n",
    "\n",
    "__2.  Write a program that takes a string as input, and counts the frequency of each word in the string, there might  be repeated characters in the string. Your task is to find the highest frequency and returns the length of the  highest-frequency word.__\n",
    "\n",
    "__Note - You have to write at least 2 additional test cases in which your program will run successfully and provide  an explanation for the same.__\n",
    "\n",
    "__Example input - string = “write write write all the number from from from 1 to 100”__\n",
    "\n",
    "__Example output - 5__\n",
    "\n",
    "__Explanation - From the given string we can note that the most frequent words are “write” and “from” and  the maximum value of both the values is “write” and its corresponding length is 5__"
   ]
  },
  {
   "cell_type": "markdown",
   "id": "6ace9359",
   "metadata": {},
   "source": [
    "__Ans__"
   ]
  },
  {
   "cell_type": "code",
   "execution_count": 38,
   "id": "81479c83",
   "metadata": {},
   "outputs": [],
   "source": [
    "def highest_frequency_word_length(string):\n",
    "    words = string.split()\n",
    "    frequency = {}\n",
    "    for word in words:\n",
    "        if word in frequency:\n",
    "            frequency[word] += 1\n",
    "        else:\n",
    "            frequency[word] = 1\n",
    "    max_frequency = max(frequency.values())\n",
    "    highest_frequency_words = [word for word, freq in frequency.items() if freq == max_frequency]\n",
    "    return len(max(highest_frequency_words, key=len))"
   ]
  },
  {
   "cell_type": "code",
   "execution_count": 39,
   "id": "59dfa607",
   "metadata": {},
   "outputs": [
    {
     "name": "stdout",
     "output_type": "stream",
     "text": [
      "Test Case 1 - Length of the highest-frequency word: 5\n"
     ]
    }
   ],
   "source": [
    "#Test case\n",
    "input_string_1 = \"write write write all the number from from from 1 to 100\"\n",
    "result_1 = highest_frequency_word_length(input_string_1)\n",
    "print(\"Test Case 1 - Length of the highest-frequency word:\", result_1)\n"
   ]
  },
  {
   "cell_type": "code",
   "execution_count": 40,
   "id": "1eaba4ef",
   "metadata": {},
   "outputs": [
    {
     "name": "stdout",
     "output_type": "stream",
     "text": [
      "Test Case 2 - Length of the highest-frequency word: 6\n"
     ]
    }
   ],
   "source": [
    "# Test Case 2:\n",
    "input_string_2 = \"apple orange apple banana orange apple banana banana\"\n",
    "result_2 = highest_frequency_word_length(input_string_2)\n",
    "print(\"Test Case 2 - Length of the highest-frequency word:\", result_2)"
   ]
  },
  {
   "cell_type": "code",
   "execution_count": 41,
   "id": "90bb5ee6",
   "metadata": {},
   "outputs": [
    {
     "name": "stdout",
     "output_type": "stream",
     "text": [
      "Test Case 3 - Length of the highest-frequency word: 6\n"
     ]
    }
   ],
   "source": [
    "# Test Case 3:\n",
    "input_string_3 = \"python python java python c++ java python c++ python\"\n",
    "result_3 = highest_frequency_word_length(input_string_3)\n",
    "print(\"Test Case 3 - Length of the highest-frequency word:\", result_3)"
   ]
  }
 ],
 "metadata": {
  "kernelspec": {
   "display_name": "Python 3 (ipykernel)",
   "language": "python",
   "name": "python3"
  },
  "language_info": {
   "codemirror_mode": {
    "name": "ipython",
    "version": 3
   },
   "file_extension": ".py",
   "mimetype": "text/x-python",
   "name": "python",
   "nbconvert_exporter": "python",
   "pygments_lexer": "ipython3",
   "version": "3.9.7"
  }
 },
 "nbformat": 4,
 "nbformat_minor": 5
}

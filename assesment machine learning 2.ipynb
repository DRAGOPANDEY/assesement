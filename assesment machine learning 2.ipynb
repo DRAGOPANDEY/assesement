{
 "cells": [
  {
   "cell_type": "markdown",
   "id": "3c6cee9e",
   "metadata": {},
   "source": [
    "#   Question: 2"
   ]
  },
  {
   "cell_type": "markdown",
   "id": "4a31ac1d",
   "metadata": {},
   "source": [
    "__1.Explain how you can implement ML in a real world application.__<br>\n",
    "\n",
    "__2.Train an SVM regressor on : Bengaluru housing dataset__<br>\n",
    "\n",
    "__Must include in details:__<br>\n",
    "__ EDA__<br>\n",
    "\n",
    "__ Feature engineering__ <br>"
   ]
  },
  {
   "cell_type": "markdown",
   "id": "32aabbfd",
   "metadata": {},
   "source": [
    "# Ans:-Explain how you can implement ML in a real world application. <br>"
   ]
  },
  {
   "cell_type": "markdown",
   "id": "1da59cb3",
   "metadata": {},
   "source": [
    "\n",
    "__Machine learning (ML)__ can be implemented in various real-world applications, providing value in many ways. Some examples of machine learning in real-world applications include:<br>\n",
    "\n",
    "__1.Facial recognition:__ ML is used for immediate tagging and verification of individuals by comparing and analyzing patterns in images.<br>\n",
    "\n",
    "__2.Healthcare:__ ML models are used to analyze data from wearables, helping in the generation of insights into the wearer's health.<br>\n",
    "\n",
    "__3.Language processing:__ ML is employed in voice-to-text applications, where machines learn language and transcribe audio into text, as well as in predictive text applications.<br>\n",
    "\n",
    "__4.Image recognition:__ ML is widely used for identifying objects in digital images based on pixel intensity.<br>\n",
    "\n",
    "__5.Business intelligence and predictive analytics:__ ML algorithms are used in various industries for identifying significant data points, patterns, and anomalies in large datasets, such as in customer relationship management and pharmaceuticals.<br>\n",
    "\n",
    "To implement ML in a real-world application, the following steps are typically involved:<br>\n",
    "\n",
    "Business understanding or questioning phase<br>\n",
    "\n",
    "Data gathering or acquiring<br>\n",
    "\n",
    "Data processing and preparation<br>\n",
    "\n",
    "Model building<br>"
   ]
  },
  {
   "cell_type": "code",
   "execution_count": null,
   "id": "333ff3da",
   "metadata": {},
   "outputs": [],
   "source": []
  }
 ],
 "metadata": {
  "kernelspec": {
   "display_name": "Python 3 (ipykernel)",
   "language": "python",
   "name": "python3"
  },
  "language_info": {
   "codemirror_mode": {
    "name": "ipython",
    "version": 3
   },
   "file_extension": ".py",
   "mimetype": "text/x-python",
   "name": "python",
   "nbconvert_exporter": "python",
   "pygments_lexer": "ipython3",
   "version": "3.9.7"
  }
 },
 "nbformat": 4,
 "nbformat_minor": 5
}
